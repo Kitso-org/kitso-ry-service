{
 "cells": [
  {
   "cell_type": "code",
   "execution_count": 10,
   "metadata": {},
   "outputs": [],
   "source": [
    "from pymongo import MongoClient\n",
    "import configparser\n",
    "\n",
    "config = configparser.ConfigParser()\n",
    "config.read('config.ini')\n",
    "\n",
    "db_user = config['DEFAULT']['DB_USER']\n",
    "db_name = config['DEFAULT']['DB_NAME']\n",
    "db_pass = config['DEFAULT']['DB_PASS']\n",
    "\n",
    "db_url = \"mongodb://\" + db_user + \":\" + db_pass + \"@ds237669.mlab.com:37669/\" + db_name\n",
    "\n",
    "client = MongoClient(db_url)\n",
    "db = client[db_name]"
   ]
  },
  {
   "cell_type": "code",
   "execution_count": 11,
   "metadata": {},
   "outputs": [],
   "source": [
    "class User(object):    \n",
    "    def __init__(self, **entries):\n",
    "        self.__dict__.update(entries)        \n",
    "        \n",
    "class Rating(object):    \n",
    "    def __init__(self, **entries):\n",
    "        self.__dict__.update(entries)\n",
    "    \n",
    "    def get_rating(self):\n",
    "        return self.rating/2.0"
   ]
  },
  {
   "cell_type": "markdown",
   "metadata": {},
   "source": [
    "#### Exporting csv of training data"
   ]
  },
  {
   "cell_type": "code",
   "execution_count": 12,
   "metadata": {},
   "outputs": [],
   "source": [
    "db_users = db.users.find({})\n",
    "\n",
    "data_list = []\n",
    "\n",
    "for u in db_users:\n",
    "    args = u\n",
    "    user = User(**args)\n",
    "    m_ratings = db.rateds.find({'_user': user._id})\n",
    "    \n",
    "    for r in m_ratings:\n",
    "        args = r\n",
    "        rating = Rating(**args)\n",
    "        \n",
    "        # TODO: user app.core.util_constants.TrainingDataConstants\n",
    "        new_row = {\n",
    "            'user_id': user._id,\n",
    "            'item_id': rating._media,\n",
    "            'rating': rating.get_rating()}\n",
    "        \n",
    "        data_list.append(new_row)"
   ]
  },
  {
   "cell_type": "code",
   "execution_count": 4,
   "metadata": {},
   "outputs": [],
   "source": [
    "import pandas as pd\n",
    "import os\n",
    "    \n",
    "df = pd.DataFrame(columns=('user_id', 'item_id', 'rating'))\n",
    "df = pd.DataFrame(data_list)\n",
    "\n",
    "data_dir = \"../data/\"\n",
    "if not os.path.exists(data_dir):\n",
    "    os.makedirs(data_dir)\n",
    "\n",
    "df.to_csv(data_dir + 'kitso_data.csv', index=False, sep=\";\")"
   ]
  },
  {
   "cell_type": "markdown",
   "metadata": {},
   "source": [
    "#### Exporting csv with kitso movies"
   ]
  },
  {
   "cell_type": "code",
   "execution_count": 5,
   "metadata": {},
   "outputs": [],
   "source": [
    "import requests\n",
    "\n",
    "movie_list = []\n",
    "already_requested_movie = []\n",
    "\n",
    "# TODO: use as constants defined in app\n",
    "kitso_api_url = \"http://kitso.herokuapp.com/api\"\n",
    "MOVIE_ENDPOINT = \"/movie/\"\n",
    "\n",
    "for d in data_list:\n",
    "    movie_id = d['item_id']\n",
    "    \n",
    "    if movie_id in already_requested_movie:\n",
    "        continue\n",
    "    \n",
    "    url = kitso_api_url + MOVIE_ENDPOINT + str(movie_id)\n",
    "    resp = requests.get(url)\n",
    "    \n",
    "    # TODO: use status code int defined in app constants\n",
    "    if resp.status_code >= 200 and resp.status_code < 300:        \n",
    "        resp_dict = resp.json()\n",
    "        \n",
    "        release_year = resp_dict[\"release_date\"].split(\"-\")[0]\n",
    "        title_and_year = resp_dict[\"title\"] + \" (\" + release_year + \")\"\n",
    "        \n",
    "        # TODO: user app.core.util_constants.ItemsDataConstants\n",
    "        new_row = {'kitso_id': resp_dict[\"_id\"],\n",
    "                   'imdb_id': resp_dict[\"imdb_id\"],\n",
    "                   'tmdb_id': resp_dict[\"id\"],\n",
    "                   'original_title': resp_dict[\"original_title\"],\n",
    "                   'title': resp_dict[\"title\"],\n",
    "                   '_t': resp_dict[\"__t\"],\n",
    "                   'poster_path': resp_dict[\"poster_path\"],\n",
    "                   'title_year': title_and_year}\n",
    "        \n",
    "        movie_list.append(new_row)\n",
    "        already_requested_movie.append(movie_id)"
   ]
  },
  {
   "cell_type": "code",
   "execution_count": 6,
   "metadata": {},
   "outputs": [],
   "source": [
    "df = pd.DataFrame(columns=('kitso_id', 'imdb_id', 'tmdb_id', 'original_title', 'title', '_t', 'poster_path'))\n",
    "df = pd.DataFrame(movie_list)\n",
    "df.to_csv(data_dir + 'kitso_movies_data.csv', index=False, sep=\";\")"
   ]
  }
 ],
 "metadata": {
  "kernelspec": {
   "display_name": "Python 3",
   "language": "python",
   "name": "python3"
  },
  "language_info": {
   "codemirror_mode": {
    "name": "ipython",
    "version": 3
   },
   "file_extension": ".py",
   "mimetype": "text/x-python",
   "name": "python",
   "nbconvert_exporter": "python",
   "pygments_lexer": "ipython3",
   "version": "3.5.2"
  }
 },
 "nbformat": 4,
 "nbformat_minor": 2
}
